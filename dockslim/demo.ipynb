{
 "cells": [
  {
   "cell_type": "code",
   "execution_count": null,
   "metadata": {},
   "outputs": [
    {
     "data": {
      "application/vnd.jupyter.widget-view+json": {
       "model_id": "7728aa2ebca04547b76c90f4d3f90ffb",
       "version_major": 2,
       "version_minor": 0
      },
      "text/plain": [
       "interactive(children=(Dropdown(description='选择构象:', options=(('Pose 1 (Score: -7.264)', 0), ('Pose 2 (Score: -…"
      ]
     },
     "metadata": {},
     "output_type": "display_data"
    },
    {
     "name": "stdout",
     "output_type": "stream",
     "text": [
      "✅ 使用下拉菜单切换不同构象的3D视图\n"
     ]
    }
   ],
   "source": [
    "from rdkit import Chem\n",
    "from rdkit.Chem import AllChem\n",
    "import py3Dmol\n",
    "from ipywidgets import interact, Dropdown\n",
    "from IPython.display import display\n",
    "\n",
    "# 读取SDF内容（替换为你的完整SDF内容）\n",
    "# with open(\"/root/code/work/dockslim/examples/outdir/ZINC000000706920/dockout.sdf\",\"r\") as f:\n",
    "#     sdf_content = f.read()\n",
    "    \n",
    "\n",
    "# 读取所有构象\n",
    "supplier = Chem.SDMolSupplier(\"/root/code/work/dockslim/examples/outdir/ZINC000000706920/dockout.sdf\")\n",
    "conformers = []\n",
    "scores = []\n",
    "\n",
    "for mol in supplier:\n",
    "    if mol:\n",
    "        # 添加氢原子并生成3D坐标\n",
    "        mol = Chem.AddHs(mol)\n",
    "        AllChem.EmbedMolecule(mol)\n",
    "        AllChem.MMFFOptimizeMolecule(mol)\n",
    "        conformers.append(mol)\n",
    "        scores.append(mol.GetProp(\"Score\"))\n",
    "\n",
    "# 创建交互式可视化函数\n",
    "def show_conformer(pose_index=0):\n",
    "    viewer = py3Dmol.view(width=600, height=400)\n",
    "    mol_block = Chem.MolToMolBlock(conformers[pose_index])\n",
    "    viewer.addModel(mol_block, \"mol\")\n",
    "    viewer.setStyle({\"stick\": {}, \"sphere\": {\"radius\": 0.3}})\n",
    "    viewer.zoomTo()\n",
    "    viewer.show()\n",
    "    \n",
    "    # 显示分数信息\n",
    "    print(f\"当前构象: Pose {pose_index+1}\")\n",
    "    print(f\"对接分数: {scores[pose_index]}\")\n",
    "\n",
    "# 创建下拉菜单选项\n",
    "pose_options = [(f\"Pose {i+1} (Score: {scores[i]})\", i) \n",
    "               for i in range(len(conformers))]\n",
    "\n",
    "# 显示交互控件\n",
    "interact(\n",
    "    show_conformer,\n",
    "    pose_index=Dropdown(\n",
    "        options=pose_options,\n",
    "        value=0,\n",
    "        description=\"选择构象:\"\n",
    "    )\n",
    ")\n",
    "\n",
    "print(\"✅ 使用下拉菜单切换不同构象的3D视图\")"
   ]
  }
 ],
 "metadata": {
  "kernelspec": {
   "display_name": "dockslim",
   "language": "python",
   "name": "python3"
  },
  "language_info": {
   "codemirror_mode": {
    "name": "ipython",
    "version": 3
   },
   "file_extension": ".py",
   "mimetype": "text/x-python",
   "name": "python",
   "nbconvert_exporter": "python",
   "pygments_lexer": "ipython3",
   "version": "3.10.16"
  }
 },
 "nbformat": 4,
 "nbformat_minor": 2
}
