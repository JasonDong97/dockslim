{
 "cells": [
  {
   "cell_type": "code",
   "execution_count": null,
   "metadata": {},
   "outputs": [],
   "source": [
    "import sdfviewer\n",
    "\n",
    "sdfviewer.view(\"../examples/outdir/ZINC000004865344/dockout.sdf\")\n",
    "sdfviewer.view(\"../examples/outdir/ZMR/dockout.sdf\")"
   ]
  }
 ],
 "metadata": {
  "kernelspec": {
   "display_name": "dockslim",
   "language": "python",
   "name": "python3"
  },
  "language_info": {
   "codemirror_mode": {
    "name": "ipython",
    "version": 3
   },
   "file_extension": ".py",
   "mimetype": "text/x-python",
   "name": "python",
   "nbconvert_exporter": "python",
   "pygments_lexer": "ipython3",
   "version": "3.10.16"
  }
 },
 "nbformat": 4,
 "nbformat_minor": 2
}
