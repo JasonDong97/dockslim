{
 "cells": [
  {
   "cell_type": "code",
   "execution_count": 1,
   "metadata": {},
   "outputs": [
    {
     "name": "stdout",
     "output_type": "stream",
     "text": [
      "\n",
      " ✅ 使用下拉菜单切换不同构象的 ../examples/outdir/ZINC000004865344/dockout.sdf 3D视图\n",
      "\n"
     ]
    },
    {
     "data": {
      "application/vnd.jupyter.widget-view+json": {
       "model_id": "bc25f39b441a411fb7bca85605e3dbe1",
       "version_major": 2,
       "version_minor": 0
      },
      "text/plain": [
       "interactive(children=(Dropdown(description='选择构象:', options=(('Pose 1 (Score: -6.752)', 0), ('Pose 2 (Score: -…"
      ]
     },
     "metadata": {},
     "output_type": "display_data"
    },
    {
     "name": "stdout",
     "output_type": "stream",
     "text": [
      "⚠️ 未找到有效分子！请检查SDF文件格式。\n"
     ]
    },
    {
     "name": "stderr",
     "output_type": "stream",
     "text": [
      "[11:34:40] Explicit valence for atom # 9 N, 4, is greater than permitted\n",
      "[11:34:40] ERROR: Could not sanitize molecule ending on line 69\n",
      "[11:34:40] ERROR: Explicit valence for atom # 9 N, 4, is greater than permitted\n",
      "[11:34:40] Explicit valence for atom # 8 N, 4, is greater than permitted\n",
      "[11:34:40] ERROR: Could not sanitize molecule ending on line 145\n",
      "[11:34:40] ERROR: Explicit valence for atom # 8 N, 4, is greater than permitted\n",
      "[11:34:40] Explicit valence for atom # 9 N, 4, is greater than permitted\n",
      "[11:34:40] ERROR: Could not sanitize molecule ending on line 221\n",
      "[11:34:40] ERROR: Explicit valence for atom # 9 N, 4, is greater than permitted\n",
      "[11:34:40] Explicit valence for atom # 9 N, 4, is greater than permitted\n",
      "[11:34:40] ERROR: Could not sanitize molecule ending on line 297\n",
      "[11:34:40] ERROR: Explicit valence for atom # 9 N, 4, is greater than permitted\n",
      "[11:34:40] Explicit valence for atom # 8 N, 4, is greater than permitted\n",
      "[11:34:40] ERROR: Could not sanitize molecule ending on line 373\n",
      "[11:34:40] ERROR: Explicit valence for atom # 8 N, 4, is greater than permitted\n",
      "[11:34:40] Explicit valence for atom # 8 N, 4, is greater than permitted\n",
      "[11:34:40] ERROR: Could not sanitize molecule ending on line 449\n",
      "[11:34:40] ERROR: Explicit valence for atom # 8 N, 4, is greater than permitted\n",
      "[11:34:40] Explicit valence for atom # 8 N, 4, is greater than permitted\n",
      "[11:34:40] ERROR: Could not sanitize molecule ending on line 525\n",
      "[11:34:40] ERROR: Explicit valence for atom # 8 N, 4, is greater than permitted\n",
      "[11:34:40] Explicit valence for atom # 9 N, 4, is greater than permitted\n",
      "[11:34:40] ERROR: Could not sanitize molecule ending on line 601\n",
      "[11:34:40] ERROR: Explicit valence for atom # 9 N, 4, is greater than permitted\n",
      "[11:34:40] Explicit valence for atom # 8 N, 4, is greater than permitted\n",
      "[11:34:40] ERROR: Could not sanitize molecule ending on line 677\n",
      "[11:34:40] ERROR: Explicit valence for atom # 8 N, 4, is greater than permitted\n"
     ]
    }
   ],
   "source": [
    "import sdfviewer\n",
    "\n",
    "sdfviewer.view(\"../examples/outdir/ZINC000004865344/dockout.sdf\")\n",
    "sdfviewer.view(\"../examples/outdir/ZMR/dockout.sdf\")"
   ]
  }
 ],
 "metadata": {
  "kernelspec": {
   "display_name": "dockslim",
   "language": "python",
   "name": "python3"
  },
  "language_info": {
   "codemirror_mode": {
    "name": "ipython",
    "version": 3
   },
   "file_extension": ".py",
   "mimetype": "text/x-python",
   "name": "python",
   "nbconvert_exporter": "python",
   "pygments_lexer": "ipython3",
   "version": "3.10.16"
  }
 },
 "nbformat": 4,
 "nbformat_minor": 2
}
